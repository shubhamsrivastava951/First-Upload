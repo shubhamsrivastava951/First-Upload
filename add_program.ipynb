{
  "nbformat": 4,
  "nbformat_minor": 0,
  "metadata": {
    "colab": {
      "name": "add_program.ipynb",
      "provenance": []
    },
    "kernelspec": {
      "name": "python3",
      "display_name": "Python 3"
    },
    "language_info": {
      "name": "python"
    }
  },
  "cells": [
    {
      "cell_type": "code",
      "execution_count": 2,
      "metadata": {
        "colab": {
          "base_uri": "https://localhost:8080/"
        },
        "id": "L29_ppmh04cg",
        "outputId": "7d18eaa2-0a41-4008-ca97-c149e67c0e7c"
      },
      "outputs": [
        {
          "name": "stdout",
          "output_type": "stream",
          "text": [
            "Enter the first number 5\n",
            "Enter the second number 7\n"
          ]
        }
      ],
      "source": [
        "a = input(\"Enter the first number \")\n",
        "b = input(\"Enter the second number \")"
      ]
    },
    {
      "cell_type": "code",
      "source": [
        "c = a+b\n",
        "\n",
        "print(c)"
      ],
      "metadata": {
        "colab": {
          "base_uri": "https://localhost:8080/"
        },
        "id": "YLb8xvR11C_G",
        "outputId": "51e8f8b8-c058-4d35-e7ce-80b41307812e"
      },
      "execution_count": 3,
      "outputs": [
        {
          "output_type": "stream",
          "name": "stdout",
          "text": [
            "57\n"
          ]
        }
      ]
    },
    {
      "cell_type": "code",
      "source": [
        ""
      ],
      "metadata": {
        "id": "Z_ZXeGY31QII"
      },
      "execution_count": null,
      "outputs": []
    }
  ]
}